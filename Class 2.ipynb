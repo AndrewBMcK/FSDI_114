{
 "cells": [
  {
   "cell_type": "code",
   "execution_count": 1,
   "id": "0305db3a-e39a-4fca-9d40-b02c7ac1f4f3",
   "metadata": {},
   "outputs": [],
   "source": [
    "# Simplified implementation of Stack\n",
    "# Relying on built-in data structures (Python lists)\n",
    "\n",
    "class Stack:\n",
    "    def __init__(self):\n",
    "        self.items = []\n",
    "\n",
    "    def push(self,value):\n",
    "        self.items.append(value)\n",
    "\n",
    "    def pop(self):\n",
    "        return self.items.pop()\n",
    "\n",
    "    # Nice to have methods:\n",
    "    def peek(self):\n",
    "        return self.items[len(self.items)-1]\n",
    "\n",
    "    def is_empty(self):\n",
    "        return self.items == []\n",
    "\n",
    "    def size(self):\n",
    "        return len(self.items)"
   ]
  },
  {
   "cell_type": "code",
   "execution_count": 8,
   "id": "11a25fda-5dd5-4a01-83e5-8098df68c983",
   "metadata": {},
   "outputs": [],
   "source": [
    "# From scrath implementation of Stack\n",
    "# Not relying on any built-ins\n",
    "\n",
    "class StackII:\n",
    "    def __init__(self):\n",
    "        self.top = None\n",
    "\n",
    "    class __Node:\n",
    "        def __init__(self, data):\n",
    "            self.data = data\n",
    "            self.below = None\n",
    "\n",
    "    def push(self,value):\n",
    "        # No matter what, I will be adding a new node, so this should be the first line:\n",
    "        new_node = self.__Node(value)\n",
    "        # check if the stack is empty:\n",
    "        if not self.top:         # this is the same as if self.top == None\n",
    "            new_node = self.__Node(value)\n",
    "            self.top = new_node\n",
    "        else:\n",
    "            # Back the reference up (to the old top most Node)\n",
    "            old_top = self.top\n",
    "            # Update self.top to point to our new node (it becomes the topmost node now)\n",
    "            self.top = new_node\n",
    "            # Connect new_node to the old_top so we don't lose data\n",
    "            new_node.below = old_top\n",
    "        \n",
    "    def pop(self):\n",
    "        # At a minimum, the pop operation must return the topmost element (specifically, the data contained at the top)\n",
    "        # and remove the topmost node from the collection\n",
    "\n",
    "        # You'll need some sort of logic to handle if pop is called and the Stack is empty so in turn\n",
    "        # you would need a filter to only allow pop to be called if a stack contains any data\n",
    "        \n",
    "        # Similar to push, but different in the sense that you will be removing a node instead of adding one and \n",
    "        # specifically you'll be removing the topmost node. \n",
    "        if not self.top:\n",
    "            raise IndexError(\"Stack is empty\")\n",
    "        else:\n",
    "            value = self.top.data\n",
    "            self.top = self.top.below\n",
    "            return value\n",
    "\n",
    "    # Nice to have methods:\n",
    "    def peek(self):\n",
    "        if self.top:\n",
    "            return self.top.data\n",
    "        raise IndexError(\"Stack is empty\")\n",
    "\n",
    "    def is_empty(self):\n",
    "        return self.top == None\n",
    "\n",
    "    def size(self):\n",
    "        ## This should return the number of Nodes in the stack\n",
    "        count = 0\n",
    "        current = self.top\n",
    "        \n",
    "        if not current:\n",
    "            return count\n",
    "        while current.below:\n",
    "            current = current.next\n",
    "            count += 1\n",
    "        return count\n",
    "\n",
    "        \n",
    "        # count = 0\n",
    "        \n",
    "        # if not self.top:     # this checks if stack is empty\n",
    "        #   return count\n",
    "        # otherwise:\n",
    "        #   loop until we reach a Node whose below reference is set to None\n",
    "        #     everytime we loop, add 1 to count\n",
    "        # return count\n",
    "\n",
    "\n",
    "        \n",
    "        # if else statements needed\n",
    "        # We need some sort of method to iterate over the nodes that exist in the stack\n",
    "        # Keep track of each node counted so far\n",
    "        # return number of nodes\n",
    "        \n",
    "      "
   ]
  },
  {
   "cell_type": "code",
   "execution_count": 4,
   "id": "11a3d14b-1da6-492b-b471-11f320a09f35",
   "metadata": {},
   "outputs": [
    {
     "name": "stdout",
     "output_type": "stream",
     "text": [
      "139800427020688\n",
      "139800427020656\n"
     ]
    }
   ],
   "source": [
    "# Pass by value\n",
    "# In Python \"primary\" data types (int, float, bool) all pass by \"value\"\n",
    "\n",
    "x = 5\n",
    "y = x\n",
    "\n",
    "x += 1 # x is now 6\n",
    "\n",
    "print(id(x))\n",
    "print(id(y))"
   ]
  },
  {
   "cell_type": "code",
   "execution_count": 6,
   "id": "bbbeccde-3348-40ac-b304-9dfd419e0a57",
   "metadata": {},
   "outputs": [
    {
     "name": "stdout",
     "output_type": "stream",
     "text": [
      "139800380223808\n",
      "139800380223808\n"
     ]
    }
   ],
   "source": [
    "# Pass by reference\n",
    "# In Python, data types that are not primary all pass by reference\n",
    "\n",
    "x = [1, 2, 3]\n",
    "\n",
    "y = x\n",
    "\n",
    "x.append(4)\n",
    "\n",
    "print(id(x))\n",
    "print(id(y))"
   ]
  },
  {
   "cell_type": "markdown",
   "id": "d6d78906-b0f9-4277-8cc1-120f8e25af41",
   "metadata": {},
   "source": [
    "# Problem 2:\n",
    "\n",
    "## Given a string like \"Rafael\" use our StackII class (above) to invert the string.\n",
    "\n",
    "### Examples:\n",
    "```\n",
    "invert_str(\"Rafael\") -> \"leafaR\"\n",
    "invert_str(\"Star\") -> \"ratS\"\n",
    "invert_str(\"scar\") -> \"racs\"\n",
    "```\n",
    "### Criteria\n",
    "Your solution must absolutely use only the StackII class above to return the inverted string, no other solutions will apply."
   ]
  },
  {
   "cell_type": "code",
   "execution_count": 1,
   "id": "535ac715-cf13-4ff7-a239-335a9fdbc66a",
   "metadata": {},
   "outputs": [],
   "source": [
    "# Use push method first\n",
    "# Use pop method second. According to our diagram this will invert any strings\n",
    "\n",
    "# use ClassII pop and push code that is already written to invert these strings WITHOUT deleting data\n",
    "# perhaps there is a method to create a copy of the string that acts as a pop without deleting the original data?\n",
    "\n",
    "# how do you fist invoke or \"reference\" use of ClassII to begin with\n",
    "## Create an instance of StackII\n",
    "#   stack = new StackII"
   ]
  },
  {
   "cell_type": "code",
   "execution_count": 2,
   "id": "e75cb616-686d-4f88-bee7-08133a27d1dc",
   "metadata": {},
   "outputs": [],
   "source": [
    "# In object oriented programing you have classes and the classes act as a blueprint for code that you can use in your solution.\n",
    "# to actually use these classes, you generate an instance of them.\n",
    "# The difference between class and object is like the difference between a blueprint and the house that is built from it."
   ]
  },
  {
   "cell_type": "code",
   "execution_count": 3,
   "id": "d49025c6-f8b3-4782-a1a0-a76f4156939f",
   "metadata": {},
   "outputs": [],
   "source": [
    "# Exercise:\n",
    "# Create a class called \"Canine\", which should have the following attributes:\n",
    "\n",
    "class Canine:\n",
    "    def __init__(self, height, weight, bite_intensity, howl_intensity):\n",
    "        self.height = height                                                  # attributes are things that describe the class (nouns or adjectives typically)\n",
    "        self.weight = weight\n",
    "        self.bite_intensity = bite_intensity\n",
    "        self.howl_intensity = howl_intensity\n",
    "\n",
    "    def bite(self):                         # methods are things that the class \"does\" (typically denoted by verbs)\n",
    "        print(\"bite\")\n",
    "        \n",
    "    def howl(self):\n",
    "        print(\"howl\")\n",
    "        \n",
    "    def run(self):\n",
    "        print(\"run\")\n",
    "        \n",
    "    def dig(self):\n",
    "        print(\"dig\")\n",
    "\n",
    "class Dog(Canine):      # this should be read \"Dog extends Canine\"\n",
    "    def wag_tail(self):\n",
    "        print(\"Wag tail\")\n",
    "\n",
    "class Wolf(Canine):\n",
    "    def hunt(self):\n",
    "        print(\"hunting\")\n",
    "\n",
    "# height\n",
    "# weight\n",
    "# bite_intensity\n",
    "# howl_intensity\n",
    "# Additionally, it should have these methods:\n",
    "# bite()\n",
    "# howl()\n",
    "# run()\n",
    "# dig()\n",
    "\n",
    "# After that, we're going to create the classes Dog() and Wolf() which must extend Canine.\n",
    "# Finally, create instances of Dog and Wolf, and demonstrate, using the dot operator, how to access these attributes and methods."
   ]
  },
  {
   "cell_type": "code",
   "execution_count": 4,
   "id": "f06cae92-cc76-4ff2-9b39-0c2aee2e6cac",
   "metadata": {},
   "outputs": [],
   "source": [
    "wolf = Wolf(30, 50, 100, 100)"
   ]
  },
  {
   "cell_type": "code",
   "execution_count": 5,
   "id": "5df3daf3-5189-45b0-88f2-7e212cd114f9",
   "metadata": {},
   "outputs": [
    {
     "name": "stdout",
     "output_type": "stream",
     "text": [
      "The bite intensity for wolf is: 100\n"
     ]
    }
   ],
   "source": [
    "print(\"The bite intensity for wolf is: %s\" % wolf.bite_intensity)"
   ]
  },
  {
   "cell_type": "code",
   "execution_count": 1,
   "id": "e1f05bbf-94e6-4221-9ce7-2adaae16f8aa",
   "metadata": {},
   "outputs": [],
   "source": [
    "# Create a class called Vehicle with the following attributes:\n",
    "# 1. velocity\n",
    "# 2. type\n",
    "# 3. number_of_wheels\n",
    "# 4. fuel_level\n",
    "\n",
    "# Then, create the following subclasses:\n",
    "# 1. Truck\n",
    "# 2. Motorcycle\n",
    "# 3. Bus\n",
    "# 4. Plane\n",
    "\n",
    "# Each class should have at least 2 unique methods"
   ]
  },
  {
   "cell_type": "code",
   "execution_count": null,
   "id": "acf682e6-faec-4b95-8578-1a357f8372dd",
   "metadata": {},
   "outputs": [],
   "source": [
    "class Vehicle:                                                                # class\n",
    "    def __init__(self, velocity, type, number_of_wheels, fuel_level):         # attributes\n",
    "        self.velocity = velocity\n",
    "        self.type = type\n",
    "        self.number_of_wheels = number_of_wheels\n",
    "        self.fuel_level = fuel_level\n",
    "\n",
    "class Truck(Vehicle):                                                         # sub-class\n",
    "    def haul(self):\n",
    "        print(\"haul\")\n",
    "\n",
    "    def deliver(self):                                                        # methods\n",
    "        print(\"deliver\")\n",
    "\n",
    "class Motorcycle(Vehicle):\n",
    "    def wheelie(self):\n",
    "        print(\"wheelie\")\n",
    "\n",
    "    def tire_change(self):\n",
    "        print(\"change tire\")\n",
    "\n",
    "\n",
    "class Bus(Vehicle):\n",
    "    def maintain(self):\n",
    "        print(\"maintain\")\n",
    "\n",
    "    def unload(self):\n",
    "        print(\"unload\")\n",
    "\n",
    "\n",
    "class Plane(Vehicle):\n",
    "    def inspect(self):\n",
    "        print(\"inspect\")\n",
    "\n",
    "    def refuel(self):\n",
    "        print(\"refuel\")"
   ]
  }
 ],
 "metadata": {
  "kernelspec": {
   "display_name": "Python 3 (ipykernel)",
   "language": "python",
   "name": "python3"
  },
  "language_info": {
   "codemirror_mode": {
    "name": "ipython",
    "version": 3
   },
   "file_extension": ".py",
   "mimetype": "text/x-python",
   "name": "python",
   "nbconvert_exporter": "python",
   "pygments_lexer": "ipython3",
   "version": "3.10.12"
  }
 },
 "nbformat": 4,
 "nbformat_minor": 5
}
