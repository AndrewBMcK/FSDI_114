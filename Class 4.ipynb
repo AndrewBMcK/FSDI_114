{
 "cells": [
  {
   "cell_type": "code",
   "execution_count": 1,
   "id": "79615136-d8db-49f5-89af-080922d369ef",
   "metadata": {},
   "outputs": [],
   "source": [
    "# Simplified implementation of Queue (relying on built-in data structures)\n",
    "\n",
    "class Queue:\n",
    "    def __init__(self):\n",
    "        self.items = []\n",
    "\n",
    "    def enqueue(self, value):\n",
    "        self.items.insert(0, value)\n",
    "\n",
    "    def dequeue(self):\n",
    "        return self.items.pop()\n",
    "\n",
    "    # nice to have methods\n",
    "    def is_empty(self):\n",
    "        return self.items == []\n",
    "\n",
    "    def size(self):\n",
    "        return len(self.items)\n",
    "\n",
    "    def peek(self):\n",
    "        return self.items[len(self.items)-1]"
   ]
  },
  {
   "cell_type": "code",
   "execution_count": 2,
   "id": "6def1d72-fbed-40cd-ab13-2d860cfc8b90",
   "metadata": {},
   "outputs": [
    {
     "name": "stdout",
     "output_type": "stream",
     "text": [
      "A\n",
      "B\n",
      "C\n"
     ]
    }
   ],
   "source": [
    "queue = Queue()\n",
    "\n",
    "queue.enqueue(\"A\")\n",
    "queue.enqueue(\"B\")\n",
    "queue.enqueue(\"C\")\n",
    "\n",
    "while not queue.is_empty():  # as long as our queue is not empty, \n",
    "    print(queue.dequeue())   # <<- keep doing this"
   ]
  },
  {
   "cell_type": "code",
   "execution_count": 1,
   "id": "5ff76a61-1241-4048-b46a-bd0f8d4e8f93",
   "metadata": {},
   "outputs": [],
   "source": [
    "# create a class named QueueII\n",
    "\n",
    "# for a queue you need to be able to track the rear most data in the queue and the front.\n",
    "# when new data is added to the queue, it goes to the back\n",
    "# when this happens, you need to update what data is the rear most and you also need to update\n",
    "# the relationship between the rear most(new data) and the previous rear most data.\n",
    "# there needs to be some sort of attribute for the front and the rear\n",
    "# you need a backup copy of the rear most data before you change it. You can use that backup to update the correlation of data\n",
    "\n",
    "# for the front you would want to be able to create a variable that stores that data (back up copy for front) and you can pop\n",
    "# enqueue acts as a push\n",
    "# dequeue acts as a pop\n",
    "# enqueue = rear\n",
    "# dequeue = front"
   ]
  },
  {
   "cell_type": "code",
   "execution_count": 6,
   "id": "74709cad-2a16-4fb4-a140-de5c3388fe72",
   "metadata": {},
   "outputs": [],
   "source": [
    "# More complex implementation of Queue (no built-ins)\n",
    "\n",
    "class QueueII:\n",
    "    def __init__(self):\n",
    "        self.rear = None\n",
    "        self.front = None\n",
    "\n",
    "    class __Node:\n",
    "        def __init__(self, data):\n",
    "            self.data = data\n",
    "            self.next = None\n",
    "\n",
    "    def enqueue(self, value):\n",
    "        new_node = self.__Node(value)\n",
    "        if not self.rear:\n",
    "            self.rear = new_node\n",
    "            self.front = new_node\n",
    "        else:\n",
    "            # step 1: back up the current \"rear\" reference\n",
    "            bckup = self.rear\n",
    "            # step 2: update the \"rear\" reference to point to our new node\n",
    "            self.rear = new_node\n",
    "            # step 3: update the \"bckup\" reference so it's \"next\" reference points to our new node\n",
    "            bckup.next = new_node\n",
    "\n",
    "    def dequeue(self):\n",
    "        if self.front:\n",
    "            bckup = self.front.data\n",
    "            self.front = self.front.next\n",
    "            return bckup\n",
    "        raise IndexError(\"Queue is empty\")\n",
    "\n",
    "    def is_empty(self):\n",
    "        return self.front == None\n",
    "\n",
    "    def __str__(self):\n",
    "        out = \"FRONT: \"\n",
    "        current = self.front\n",
    "        if current:\n",
    "            out += \"%s\" % current.data\n",
    "            while current.next:\n",
    "                current = current.next\n",
    "                out += \"-> %s\" % current.data\n",
    "        out += \" :REAR\"\n",
    "        return out"
   ]
  },
  {
   "cell_type": "code",
   "execution_count": 7,
   "id": "8a854759-1da4-4215-815f-ba917dc6eccb",
   "metadata": {},
   "outputs": [
    {
     "name": "stdout",
     "output_type": "stream",
     "text": [
      "New queue created (and empty):\n",
      "FRONT:  :REAR\n",
      "Queue as we add things to it:\n",
      "FRONT: A :REAR\n",
      "FRONT: A-> B :REAR\n",
      "FRONT: A-> B-> C :REAR\n",
      "FRONT: A-> B-> C-> D :REAR\n",
      "FRONT: A-> B-> C-> D-> E :REAR\n",
      "FRONT: A-> B-> C-> D-> E-> F :REAR\n",
      "FRONT: A-> B-> C-> D-> E-> F-> G :REAR\n",
      "FRONT: A-> B-> C-> D-> E-> F-> G-> H :REAR\n",
      "FRONT: A-> B-> C-> D-> E-> F-> G-> H-> I :REAR\n",
      "FRONT: A-> B-> C-> D-> E-> F-> G-> H-> I-> J :REAR\n",
      "FRONT: A-> B-> C-> D-> E-> F-> G-> H-> I-> J-> K :REAR\n",
      "Queue as we dequeue elements until it is empty:\n",
      "Dequeued element: A\n",
      "Queue: FRONT: B-> C-> D-> E-> F-> G-> H-> I-> J-> K :REAR\n",
      "Dequeued element: B\n",
      "Queue: FRONT: C-> D-> E-> F-> G-> H-> I-> J-> K :REAR\n",
      "Dequeued element: C\n",
      "Queue: FRONT: D-> E-> F-> G-> H-> I-> J-> K :REAR\n",
      "Dequeued element: D\n",
      "Queue: FRONT: E-> F-> G-> H-> I-> J-> K :REAR\n",
      "Dequeued element: E\n",
      "Queue: FRONT: F-> G-> H-> I-> J-> K :REAR\n",
      "Dequeued element: F\n",
      "Queue: FRONT: G-> H-> I-> J-> K :REAR\n",
      "Dequeued element: G\n",
      "Queue: FRONT: H-> I-> J-> K :REAR\n",
      "Dequeued element: H\n",
      "Queue: FRONT: I-> J-> K :REAR\n",
      "Dequeued element: I\n",
      "Queue: FRONT: J-> K :REAR\n",
      "Dequeued element: J\n",
      "Queue: FRONT: K :REAR\n",
      "Dequeued element: K\n",
      "Queue: FRONT:  :REAR\n"
     ]
    }
   ],
   "source": [
    "letters = \"ABCDEFGHIJK\"\n",
    "\n",
    "queue = QueueII()\n",
    "print(\"New queue created (and empty):\")\n",
    "print(queue)\n",
    "\n",
    "print(\"Queue as we add things to it:\")\n",
    "for letter in letters:\n",
    "    queue.enqueue(letter)\n",
    "    print(queue)\n",
    "\n",
    "print(\"Queue as we dequeue elements until it is empty:\")\n",
    "while not queue.is_empty():\n",
    "    print(\"Dequeued element: %s\" % queue.dequeue())\n",
    "    print(\"Queue: %s\" % queue)"
   ]
  },
  {
   "cell_type": "code",
   "execution_count": null,
   "id": "65731768-0e2f-4acd-8d48-d68e206c876a",
   "metadata": {},
   "outputs": [],
   "source": []
  }
 ],
 "metadata": {
  "kernelspec": {
   "display_name": "Python 3 (ipykernel)",
   "language": "python",
   "name": "python3"
  },
  "language_info": {
   "codemirror_mode": {
    "name": "ipython",
    "version": 3
   },
   "file_extension": ".py",
   "mimetype": "text/x-python",
   "name": "python",
   "nbconvert_exporter": "python",
   "pygments_lexer": "ipython3",
   "version": "3.10.12"
  }
 },
 "nbformat": 4,
 "nbformat_minor": 5
}
