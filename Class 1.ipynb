{
 "cells": [
  {
   "cell_type": "code",
   "execution_count": 1,
   "id": "31a813cb-cdc7-49b6-83e4-9ecc9a78338e",
   "metadata": {},
   "outputs": [
    {
     "name": "stdout",
     "output_type": "stream",
     "text": [
      "h\n",
      "e\n",
      "l\n",
      "l\n",
      "o\n",
      ",\n",
      "w\n",
      "o\n",
      "r\n",
      "l\n",
      "d\n"
     ]
    }
   ],
   "source": [
    "for char in \"hello,world\":\n",
    "    print(char)"
   ]
  },
  {
   "cell_type": "code",
   "execution_count": null,
   "id": "9653d46e-ab2c-4174-8d02-71159759e05b",
   "metadata": {},
   "outputs": [],
   "source": []
  },
  {
   "cell_type": "markdown",
   "id": "88261c26-85c7-4c0b-af10-e7ad5832264a",
   "metadata": {},
   "source": [
    "# Problem 1\n",
    "\n",
    "## Anagram Check\n",
    "\n",
    "### Create a function that receives two strings as inputs and determines if these are anagrams of each other. The function should return True if these are anagrams, False otherwise.\n",
    "\n",
    "#### Criteria\n",
    "Two strings are anagrams of each other if all the criteria below is met:\n",
    "1. They must use the same number of letters\n",
    "2. They must use the same letters, the same amount of times\n",
    "\n",
    "```\n",
    "Examples:\n",
    "scar and cars\n",
    "rats and star\n",
    "earth and heart\n",
    "```"
   ]
  },
  {
   "cell_type": "code",
   "execution_count": 2,
   "id": "674ff26f-a563-405c-9470-75d3dc364162",
   "metadata": {},
   "outputs": [],
   "source": [
    "# Bad solution\n",
    "# syntactic sugar\n",
    "\n",
    "def anagram_check(string1, string2):\n",
    "    return sorted(string1) == sorted(string2)"
   ]
  },
  {
   "cell_type": "code",
   "execution_count": 3,
   "id": "6ad960c1-2238-4f75-a041-b209c98c6a5c",
   "metadata": {},
   "outputs": [
    {
     "data": {
      "text/plain": [
       "True"
      ]
     },
     "execution_count": 3,
     "metadata": {},
     "output_type": "execute_result"
    }
   ],
   "source": [
    "anagram_check(\"scar\",\"cars\")"
   ]
  },
  {
   "cell_type": "code",
   "execution_count": 5,
   "id": "f11640b9-afc2-4da8-ac17-0742448378da",
   "metadata": {},
   "outputs": [],
   "source": [
    "# In the popular harry potter saga, the villain's name \"Voldemort\" chose this name as it is an anagram of his human name\n",
    "\n",
    "# So, the phrase \"I am Lord Voldemort\" is an anagram of \"Tom Marvolo Riddle\"\n",
    "\n",
    "# I am Lord Voldemort / Tom Marvolo Riddle\n",
    "# iamlordvoldemort / tommarvoloriddle\n",
    "\n",
    "# Need to make sure these strings are equal number of characters to begin with (this needs to be performed after strings \n",
    "# with special characters are filtered out, characters are converted to lowercase and spaces are removed)\n",
    "\n",
    "# How would you sort these?\n",
    "\n",
    "# Need a function named anagram_check (string1, string2):\n",
    "#### find what logic would be needed under this part of the function (filter out strings with special characters entirely, convert to lower case, \n",
    "#### remove spaces, then test if strings are same length, test if strings contain same characters. Anagram=true)\n",
    "\n",
    "\n",
    "\n",
    "## if string1 and string2 are not of equal length:\n",
    "#            return False\n",
    "\n",
    "# new variable d1 of type dictionary\n",
    "# new variable d2 of type dictionary\n",
    "# for each number in the range of numbers between 0 and the length of string1:\n",
    "#     if the letter at position \"number\" in string1 is in d1:\n",
    "#          increase the number of times I've seen that letter by 1 in d1\n",
    "#     otherwise:\n",
    "#          create a new entry in d1 with the key set to the letter, and the number of times seen set to 1\n",
    "\n",
    "#     if the letter at position \"number\" in string2 is in d2:\n",
    "#          increase the number of times I've seen that letter by 1 in d2\n",
    "#     otherwise:\n",
    "#          create a new entry in d2 with the key set to the letter, and the number of times seen set to 1\n",
    "# check if d1 is equal to d2\n",
    "# if it is:\n",
    "#    return True\n",
    "# otherwise:\n",
    "#    return False\n"
   ]
  },
  {
   "cell_type": "code",
   "execution_count": 1,
   "id": "52badaaf-d52e-4414-af8f-d6a952d1c312",
   "metadata": {},
   "outputs": [],
   "source": [
    "def anagram_check(string1, string2):\n",
    "    string1 = ''.join(char.lower() for char in string1 if char.isalnum())\n",
    "    string2 = ''.join(char.lower() for char in string2 if char.isalnum())\n",
    "\n",
    "    if len(string1) != len(string2):\n",
    "        return False\n",
    "        \n",
    "    d1 = {}\n",
    "    d2 = {}\n",
    "\n",
    "    for char in string1:\n",
    "        if char in d1:\n",
    "            d1[char] += 1\n",
    "        else:\n",
    "            d1[char] = 1\n",
    "    for char in string2:\n",
    "        if char in d2:\n",
    "            d2[char] += 1\n",
    "        else:\n",
    "            d2[char] = 1\n",
    "\n",
    "    return d1 == d2\n",
    "\n",
    "    string1 = \"I am Lord Voldemort\"\n",
    "    string2 = \"Tom Marvolo Riddle\"\n",
    "\n",
    "    result = anagram_check(string1, string2)"
   ]
  },
  {
   "cell_type": "code",
   "execution_count": 3,
   "id": "5f3e6a4d-d731-4265-9acb-438972812d2e",
   "metadata": {},
   "outputs": [
    {
     "data": {
      "text/plain": [
       "True"
      ]
     },
     "execution_count": 3,
     "metadata": {},
     "output_type": "execute_result"
    }
   ],
   "source": [
    "anagram_check(\"I am Lord Voldemort\", \"Tom Marvolo Riddle\")"
   ]
  },
  {
   "cell_type": "code",
   "execution_count": null,
   "id": "45bc4f37-13c2-4b74-bebb-8388452b2e6d",
   "metadata": {},
   "outputs": [],
   "source": []
  }
 ],
 "metadata": {
  "kernelspec": {
   "display_name": "Python 3 (ipykernel)",
   "language": "python",
   "name": "python3"
  },
  "language_info": {
   "codemirror_mode": {
    "name": "ipython",
    "version": 3
   },
   "file_extension": ".py",
   "mimetype": "text/x-python",
   "name": "python",
   "nbconvert_exporter": "python",
   "pygments_lexer": "ipython3",
   "version": "3.10.12"
  }
 },
 "nbformat": 4,
 "nbformat_minor": 5
}
